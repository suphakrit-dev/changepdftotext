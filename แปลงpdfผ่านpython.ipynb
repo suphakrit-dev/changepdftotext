{
 "cells": [
  {
   "cell_type": "code",
   "execution_count": 23,
   "metadata": {},
   "outputs": [
    {
     "name": "stdout",
     "output_type": "stream",
     "text": [
      " \n",
      "Page \n",
      "1\n",
      " \n",
      " \n",
      " \n",
      " \n",
      "Contract Number: AID\n",
      "-\n",
      "OAA\n",
      "-\n",
      "I\n",
      "-\n",
      "15\n",
      "-\n",
      "000045 \n",
      " \n",
      "Order Number: 72052118F00004\n",
      " \n",
      " \n",
      " \n",
      " \n",
      " \n",
      " \n",
      "HAITI INFRASTRUCTURE PROGRAM\n",
      " \n",
      " \n",
      " \n",
      " \n",
      " \n",
      " \n",
      "Monthly Report\n",
      " \n",
      "April\n",
      " \n",
      "20\n",
      "20\n",
      " \n",
      " \n",
      "\n",
      " \n",
      "\n",
      " \n",
      " \n",
      " \n",
      " \n",
      " \n",
      "\n",
      " \n",
      " \n",
      " \n",
      "15 May 2020\n",
      " \n",
      "This document was prepared for use by the United States Agency for \n",
      "International Development (USAID).\n",
      " \n",
      "It was prepared by AECOM.\n",
      " \n",
      "\n"
     ]
    }
   ],
   "source": [
    "import PyPDF4\n",
    "with open('/Users/suphakritchanwichit/Desktop/work/report.pdf',mode='rb') as a:\n",
    "    reader = PyPDF4.PdfFileReader(a)\n",
    "    page = reader.getPage(0)\n",
    "    page_content = page.extractText()\n",
    "    print(page_content)"
   ]
  }
 ],
 "metadata": {
  "kernelspec": {
   "display_name": "Python 3",
   "language": "python",
   "name": "python3"
  },
  "language_info": {
   "codemirror_mode": {
    "name": "ipython",
    "version": 3
   },
   "file_extension": ".py",
   "mimetype": "text/x-python",
   "name": "python",
   "nbconvert_exporter": "python",
   "pygments_lexer": "ipython3",
   "version": "3.11.0"
  },
  "orig_nbformat": 4,
  "vscode": {
   "interpreter": {
    "hash": "aee8b7b246df8f9039afb4144a1f6fd8d2ca17a180786b69acc140d282b71a49"
   }
  }
 },
 "nbformat": 4,
 "nbformat_minor": 2
}
